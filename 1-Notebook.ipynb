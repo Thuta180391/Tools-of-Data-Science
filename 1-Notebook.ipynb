{
 "cells": [
  {
   "cell_type": "markdown",
   "id": "63a96f39",
   "metadata": {},
   "source": [
    "# Tools of Data Science"
   ]
  },
  {
   "cell_type": "markdown",
   "id": "6e533d5a",
   "metadata": {},
   "source": [
    "_Summary of Data Science Tools_"
   ]
  },
  {
   "cell_type": "markdown",
   "id": "fe7c8898",
   "metadata": {},
   "source": [
    "**Data Science Languages are as followed:** \n",
    "- Python\n",
    "- SQL\n",
    "- R\n",
    "- Java\n",
    "- C++\n",
    "- Julia\n",
    "- Java Script "
   ]
  },
  {
   "cell_type": "markdown",
   "id": "cf8a63bc",
   "metadata": {},
   "source": [
    "**List of Data Science Libraries are as followed**\n",
    "- Numpy\n",
    "- Scipy\n",
    "- Pandas\n",
    "- Matplotlib\n",
    "- Tensorflow\n",
    "- Keras\n",
    "- SciKit-Learn"
   ]
  },
  {
   "cell_type": "markdown",
   "id": "e83bc623",
   "metadata": {},
   "source": [
    "| Data Management Tools | Data Integration & Transformation Tools | Data Visualization Tools |\n",
    "| -----------------------|-----------------------------------------|--------------------------|\n",
    "| MySQL | ApacheAirflow | Pixie Dust |\n",
    "| Mongo DB | Kubeflow | kibana |\n",
    "| Cassandra | Kafka | Superset |\n"
   ]
  },
  {
   "cell_type": "markdown",
   "id": "379afae3",
   "metadata": {},
   "source": [
    "**The followings are examples of arithmetic expression**\n",
    "- 5 = a number is the example of arithmetic expression\n",
    "- 5+2 = the sum of numbers is the example of arithmetic expression \n",
    "- 5-2 = the difference is the example of arithmetic expression "
   ]
  },
  {
   "cell_type": "code",
   "execution_count": 2,
   "id": "2c304e4a",
   "metadata": {},
   "outputs": [
    {
     "name": "stdout",
     "output_type": "stream",
     "text": [
      "12\n",
      "35\n"
     ]
    }
   ],
   "source": [
    "x = 5\n",
    "y = 7\n",
    "z = x + y \n",
    "a = x * y \n",
    "print (z)\n",
    "print (a)"
   ]
  },
  {
   "cell_type": "code",
   "execution_count": 5,
   "id": "0a5b8f95",
   "metadata": {},
   "outputs": [
    {
     "name": "stdout",
     "output_type": "stream",
     "text": [
      "60.0\n"
     ]
    }
   ],
   "source": [
    "M = 3600\n",
    "H = M/60\n",
    "print (H)"
   ]
  },
  {
   "cell_type": "markdown",
   "id": "7cdc497a",
   "metadata": {},
   "source": [
    "**Learning Objectives**\n",
    "- In order to know more about data science programming languages\n",
    "- In order to know how to use and be familiar with Anaconda and Jupyter Notebook \n",
    "- In order to know more about data science libraries and tools"
   ]
  },
  {
   "cell_type": "markdown",
   "id": "46183cd7",
   "metadata": {},
   "source": [
    "## Author ##\n",
    "Thuta Zaw"
   ]
  },
  {
   "cell_type": "code",
   "execution_count": null,
   "id": "54e97877",
   "metadata": {},
   "outputs": [],
   "source": []
  }
 ],
 "metadata": {
  "kernelspec": {
   "display_name": "Python 3 (ipykernel)",
   "language": "python",
   "name": "python3"
  },
  "language_info": {
   "codemirror_mode": {
    "name": "ipython",
    "version": 3
   },
   "file_extension": ".py",
   "mimetype": "text/x-python",
   "name": "python",
   "nbconvert_exporter": "python",
   "pygments_lexer": "ipython3",
   "version": "3.9.13"
  }
 },
 "nbformat": 4,
 "nbformat_minor": 5
}
